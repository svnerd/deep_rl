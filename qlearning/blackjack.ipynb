{
 "cells": [
  {
   "cell_type": "code",
   "execution_count": 1,
   "metadata": {},
   "outputs": [],
   "source": [
    "import gym\n",
    "env = gym.make('Blackjack-v0')\n"
   ]
  },
  {
   "cell_type": "code",
   "execution_count": 102,
   "metadata": {},
   "outputs": [
    {
     "name": "stdout",
     "output_type": "stream",
     "text": [
      "N = 500000 win is -52.00"
     ]
    }
   ],
   "source": [
    "# the key idea of classic MC rl is to populate the Q table and use Q table to select the best action.\n",
    "# Q table need to be implemented as a dict with list:\n",
    "# Q[state] = [(action0, v0), (action1, v1)]\n",
    "# dictionary Q[state_x, action_x] = Reward_of_getting_from_x_to_y + alpha * (G - Q[state_y, action_y]) \n",
    "from numpy.random import random\n",
    "# state is : \n",
    "#   1. the players current sum, (1-21, 22)\n",
    "#   2. the dealer's one showing card (1-10 where 1 is ace), (1-10)\n",
    "#   3. and whether or not the player holds a usable ace (0 or 1). (0, 1)\n",
    "# total state size 20 * 10 * 2 = 400\n",
    "\n",
    "def init_state():\n",
    "    Q={}\n",
    "    for i in range(1, 23):\n",
    "        for j in range(1, 11):\n",
    "            for k in [True, False]:\n",
    "                for l in [0, 1]:\n",
    "                    Q[((i,j,k),l)] = 0\n",
    "    return Q\n",
    "\n",
    "def policy(Q, state, epsilon=0.01):\n",
    "    q=[]\n",
    "    for a in [0, 1]:\n",
    "        q.append(Q[(state, a)])\n",
    "    r = random()\n",
    "    if r <= epsilon:\n",
    "        return np.argmin(q)\n",
    "    return np.argmax(q)\n",
    "\n",
    "def generate_sequance(env, Q, epsilon):\n",
    "    state=env.reset()\n",
    "    seq = []\n",
    "    while True:\n",
    "        action = policy(Q, state, epsilon) # env.action_space.sample()#\n",
    "        next_state, reward, done, info = env.step(action)\n",
    "        seq.append((state, action, reward))\n",
    "        if done:\n",
    "            break\n",
    "        state = next_state\n",
    "    return seq\n",
    "\n",
    "def update_Q(seq, Q):\n",
    "    # use first-MC.\n",
    "    reversed_seq = list(reversed(seq))\n",
    "    reward_sum = 0\n",
    "    seq = []\n",
    "    for s, a, r in reversed_seq:\n",
    "        reward_sum += r\n",
    "        seq.append((s, a, reward_sum))\n",
    "    \n",
    "    seq = list(reversed(seq))\n",
    "    first = set()\n",
    "    for s, a, r in seq:\n",
    "        if (s, a) in first:\n",
    "            continue\n",
    "        first.add((s,a))\n",
    "        Q[(s, a)] += 0.1 * (r - Q[(s, a)])\n",
    "        \n",
    "\n",
    "Q = init_state()\n",
    "N = 0\n",
    "total_reward = 0\n",
    "epsilon = 0.5\n",
    "while(N < 500000):\n",
    "    epsilon *= .999\n",
    "    if epsilon < 0.01:\n",
    "        epsilon = 0.01\n",
    "    seq = generate_sequance(env, Q, epsilon)\n",
    "    N += 1\n",
    "    update_Q(seq, Q)\n",
    "    total_reward += seq[-1][2]\n",
    "    if N % 1000 == 0:\n",
    "        print(\"\\rN = {} win is {}\".format(N, total_reward),end=\"\")\n",
    "        total_reward = 0\n"
   ]
  },
  {
   "cell_type": "code",
   "execution_count": 101,
   "metadata": {},
   "outputs": [
    {
     "data": {
      "text/plain": [
       "3"
      ]
     },
     "execution_count": 101,
     "metadata": {},
     "output_type": "execute_result"
    }
   ],
   "source": [
    "from collections import defaultdict\n",
    "Q = defaultdict(lambda: np.zeros(2))\n",
    "Q[1]=3\n",
    "Q[1]"
   ]
  },
  {
   "cell_type": "code",
   "execution_count": null,
   "metadata": {},
   "outputs": [],
   "source": []
  },
  {
   "cell_type": "code",
   "execution_count": 57,
   "metadata": {},
   "outputs": [
    {
     "data": {
      "text/plain": [
       "2"
      ]
     },
     "execution_count": 57,
     "metadata": {},
     "output_type": "execute_result"
    }
   ],
   "source": [
    "env.action_space.n"
   ]
  },
  {
   "cell_type": "code",
   "execution_count": 54,
   "metadata": {},
   "outputs": [],
   "source": [
    "q=set()\n",
    "q.add(1)"
   ]
  }
 ],
 "metadata": {
  "kernelspec": {
   "display_name": "Python [conda env:tf_env]",
   "language": "python",
   "name": "conda-env-tf_env-py"
  },
  "language_info": {
   "codemirror_mode": {
    "name": "ipython",
    "version": 3
   },
   "file_extension": ".py",
   "mimetype": "text/x-python",
   "name": "python",
   "nbconvert_exporter": "python",
   "pygments_lexer": "ipython3",
   "version": "3.6.7"
  }
 },
 "nbformat": 4,
 "nbformat_minor": 2
}
